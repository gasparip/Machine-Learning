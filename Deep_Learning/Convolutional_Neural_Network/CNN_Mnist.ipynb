{
  "nbformat": 4,
  "nbformat_minor": 0,
  "metadata": {
    "colab": {
      "provenance": []
    },
    "kernelspec": {
      "name": "python3",
      "display_name": "Python 3"
    },
    "language_info": {
      "name": "python"
    }
  },
  "cells": [
    {
      "cell_type": "code",
      "execution_count": null,
      "metadata": {
        "id": "LJd76DCxAIBo",
        "colab": {
          "base_uri": "https://localhost:8080/"
        },
        "outputId": "11ef3b47-a3be-464d-a532-50fca26b0b5d"
      },
      "outputs": [
        {
          "output_type": "stream",
          "name": "stdout",
          "text": [
            "Requirement already satisfied: qkeras in /usr/local/lib/python3.7/dist-packages (0.9.0)\n",
            "Requirement already satisfied: numpy>=1.16.0 in /usr/local/lib/python3.7/dist-packages (from qkeras) (1.19.5)\n",
            "Requirement already satisfied: scikit-learn>=0.23.1 in /usr/local/lib/python3.7/dist-packages (from qkeras) (1.0.2)\n",
            "Requirement already satisfied: setuptools>=41.0.0 in /usr/local/lib/python3.7/dist-packages (from qkeras) (57.4.0)\n",
            "Requirement already satisfied: scipy>=1.4.1 in /usr/local/lib/python3.7/dist-packages (from qkeras) (1.4.1)\n",
            "Requirement already satisfied: tqdm>=4.48.0 in /usr/local/lib/python3.7/dist-packages (from qkeras) (4.62.3)\n",
            "Requirement already satisfied: tensorflow-model-optimization>=0.2.1 in /usr/local/lib/python3.7/dist-packages (from qkeras) (0.7.0)\n",
            "Requirement already satisfied: networkx>=2.1 in /usr/local/lib/python3.7/dist-packages (from qkeras) (2.6.3)\n",
            "Requirement already satisfied: pyparser in /usr/local/lib/python3.7/dist-packages (from qkeras) (1.0)\n",
            "Requirement already satisfied: keras-tuner>=1.0.1 in /usr/local/lib/python3.7/dist-packages (from qkeras) (1.1.0)\n",
            "Requirement already satisfied: kt-legacy in /usr/local/lib/python3.7/dist-packages (from keras-tuner>=1.0.1->qkeras) (1.0.4)\n",
            "Requirement already satisfied: ipython in /usr/local/lib/python3.7/dist-packages (from keras-tuner>=1.0.1->qkeras) (5.5.0)\n",
            "Requirement already satisfied: tensorboard in /usr/local/lib/python3.7/dist-packages (from keras-tuner>=1.0.1->qkeras) (2.7.0)\n",
            "Requirement already satisfied: requests in /usr/local/lib/python3.7/dist-packages (from keras-tuner>=1.0.1->qkeras) (2.23.0)\n",
            "Requirement already satisfied: packaging in /usr/local/lib/python3.7/dist-packages (from keras-tuner>=1.0.1->qkeras) (21.3)\n",
            "Requirement already satisfied: threadpoolctl>=2.0.0 in /usr/local/lib/python3.7/dist-packages (from scikit-learn>=0.23.1->qkeras) (3.0.0)\n",
            "Requirement already satisfied: joblib>=0.11 in /usr/local/lib/python3.7/dist-packages (from scikit-learn>=0.23.1->qkeras) (1.1.0)\n",
            "Requirement already satisfied: six~=1.10 in /usr/local/lib/python3.7/dist-packages (from tensorflow-model-optimization>=0.2.1->qkeras) (1.15.0)\n",
            "Requirement already satisfied: dm-tree~=0.1.1 in /usr/local/lib/python3.7/dist-packages (from tensorflow-model-optimization>=0.2.1->qkeras) (0.1.6)\n",
            "Requirement already satisfied: pygments in /usr/local/lib/python3.7/dist-packages (from ipython->keras-tuner>=1.0.1->qkeras) (2.6.1)\n",
            "Requirement already satisfied: pickleshare in /usr/local/lib/python3.7/dist-packages (from ipython->keras-tuner>=1.0.1->qkeras) (0.7.5)\n",
            "Requirement already satisfied: simplegeneric>0.8 in /usr/local/lib/python3.7/dist-packages (from ipython->keras-tuner>=1.0.1->qkeras) (0.8.1)\n",
            "Requirement already satisfied: pexpect in /usr/local/lib/python3.7/dist-packages (from ipython->keras-tuner>=1.0.1->qkeras) (4.8.0)\n",
            "Requirement already satisfied: decorator in /usr/local/lib/python3.7/dist-packages (from ipython->keras-tuner>=1.0.1->qkeras) (4.4.2)\n",
            "Requirement already satisfied: traitlets>=4.2 in /usr/local/lib/python3.7/dist-packages (from ipython->keras-tuner>=1.0.1->qkeras) (5.1.1)\n",
            "Requirement already satisfied: prompt-toolkit<2.0.0,>=1.0.4 in /usr/local/lib/python3.7/dist-packages (from ipython->keras-tuner>=1.0.1->qkeras) (1.0.18)\n",
            "Requirement already satisfied: wcwidth in /usr/local/lib/python3.7/dist-packages (from prompt-toolkit<2.0.0,>=1.0.4->ipython->keras-tuner>=1.0.1->qkeras) (0.2.5)\n",
            "Requirement already satisfied: pyparsing!=3.0.5,>=2.0.2 in /usr/local/lib/python3.7/dist-packages (from packaging->keras-tuner>=1.0.1->qkeras) (3.0.7)\n",
            "Requirement already satisfied: ptyprocess>=0.5 in /usr/local/lib/python3.7/dist-packages (from pexpect->ipython->keras-tuner>=1.0.1->qkeras) (0.7.0)\n",
            "Requirement already satisfied: parse==1.6.5 in /usr/local/lib/python3.7/dist-packages (from pyparser->qkeras) (1.6.5)\n",
            "Requirement already satisfied: idna<3,>=2.5 in /usr/local/lib/python3.7/dist-packages (from requests->keras-tuner>=1.0.1->qkeras) (2.10)\n",
            "Requirement already satisfied: certifi>=2017.4.17 in /usr/local/lib/python3.7/dist-packages (from requests->keras-tuner>=1.0.1->qkeras) (2021.10.8)\n",
            "Requirement already satisfied: urllib3!=1.25.0,!=1.25.1,<1.26,>=1.21.1 in /usr/local/lib/python3.7/dist-packages (from requests->keras-tuner>=1.0.1->qkeras) (1.24.3)\n",
            "Requirement already satisfied: chardet<4,>=3.0.2 in /usr/local/lib/python3.7/dist-packages (from requests->keras-tuner>=1.0.1->qkeras) (3.0.4)\n",
            "Requirement already satisfied: tensorboard-data-server<0.7.0,>=0.6.0 in /usr/local/lib/python3.7/dist-packages (from tensorboard->keras-tuner>=1.0.1->qkeras) (0.6.1)\n",
            "Requirement already satisfied: wheel>=0.26 in /usr/local/lib/python3.7/dist-packages (from tensorboard->keras-tuner>=1.0.1->qkeras) (0.37.1)\n",
            "Requirement already satisfied: grpcio>=1.24.3 in /usr/local/lib/python3.7/dist-packages (from tensorboard->keras-tuner>=1.0.1->qkeras) (1.43.0)\n",
            "Requirement already satisfied: absl-py>=0.4 in /usr/local/lib/python3.7/dist-packages (from tensorboard->keras-tuner>=1.0.1->qkeras) (1.0.0)\n",
            "Requirement already satisfied: google-auth<3,>=1.6.3 in /usr/local/lib/python3.7/dist-packages (from tensorboard->keras-tuner>=1.0.1->qkeras) (1.35.0)\n",
            "Requirement already satisfied: protobuf>=3.6.0 in /usr/local/lib/python3.7/dist-packages (from tensorboard->keras-tuner>=1.0.1->qkeras) (3.17.3)\n",
            "Requirement already satisfied: werkzeug>=0.11.15 in /usr/local/lib/python3.7/dist-packages (from tensorboard->keras-tuner>=1.0.1->qkeras) (1.0.1)\n",
            "Requirement already satisfied: google-auth-oauthlib<0.5,>=0.4.1 in /usr/local/lib/python3.7/dist-packages (from tensorboard->keras-tuner>=1.0.1->qkeras) (0.4.6)\n",
            "Requirement already satisfied: markdown>=2.6.8 in /usr/local/lib/python3.7/dist-packages (from tensorboard->keras-tuner>=1.0.1->qkeras) (3.3.6)\n",
            "Requirement already satisfied: tensorboard-plugin-wit>=1.6.0 in /usr/local/lib/python3.7/dist-packages (from tensorboard->keras-tuner>=1.0.1->qkeras) (1.8.1)\n",
            "Requirement already satisfied: rsa<5,>=3.1.4 in /usr/local/lib/python3.7/dist-packages (from google-auth<3,>=1.6.3->tensorboard->keras-tuner>=1.0.1->qkeras) (4.8)\n",
            "Requirement already satisfied: pyasn1-modules>=0.2.1 in /usr/local/lib/python3.7/dist-packages (from google-auth<3,>=1.6.3->tensorboard->keras-tuner>=1.0.1->qkeras) (0.2.8)\n",
            "Requirement already satisfied: cachetools<5.0,>=2.0.0 in /usr/local/lib/python3.7/dist-packages (from google-auth<3,>=1.6.3->tensorboard->keras-tuner>=1.0.1->qkeras) (4.2.4)\n",
            "Requirement already satisfied: requests-oauthlib>=0.7.0 in /usr/local/lib/python3.7/dist-packages (from google-auth-oauthlib<0.5,>=0.4.1->tensorboard->keras-tuner>=1.0.1->qkeras) (1.3.0)\n",
            "Requirement already satisfied: importlib-metadata>=4.4 in /usr/local/lib/python3.7/dist-packages (from markdown>=2.6.8->tensorboard->keras-tuner>=1.0.1->qkeras) (4.10.1)\n",
            "Requirement already satisfied: zipp>=0.5 in /usr/local/lib/python3.7/dist-packages (from importlib-metadata>=4.4->markdown>=2.6.8->tensorboard->keras-tuner>=1.0.1->qkeras) (3.7.0)\n",
            "Requirement already satisfied: typing-extensions>=3.6.4 in /usr/local/lib/python3.7/dist-packages (from importlib-metadata>=4.4->markdown>=2.6.8->tensorboard->keras-tuner>=1.0.1->qkeras) (3.10.0.2)\n",
            "Requirement already satisfied: pyasn1<0.5.0,>=0.4.6 in /usr/local/lib/python3.7/dist-packages (from pyasn1-modules>=0.2.1->google-auth<3,>=1.6.3->tensorboard->keras-tuner>=1.0.1->qkeras) (0.4.8)\n",
            "Requirement already satisfied: oauthlib>=3.0.0 in /usr/local/lib/python3.7/dist-packages (from requests-oauthlib>=0.7.0->google-auth-oauthlib<0.5,>=0.4.1->tensorboard->keras-tuner>=1.0.1->qkeras) (3.1.1)\n"
          ]
        }
      ],
      "source": [
        "# Importation Library\n",
        "\n",
        "import numpy as np\n",
        "import matplotlib.pyplot as plt\n",
        "import tensorflow as tf\n",
        "import pandas as pd\n",
        "! pip install qkeras\n",
        "from qkeras import *"
      ]
    },
    {
      "cell_type": "code",
      "source": [
        "# Search data\n",
        "(x_train, y_train), (x_test, y_test) = tf.keras.datasets.mnist.load_data()\n",
        "\n",
        "assert x_train.shape == (60000, 28, 28)\n",
        "assert x_test.shape == (10000, 28, 28)\n",
        "assert y_train.shape == (60000,)\n",
        "assert y_test.shape == (10000,)\n"
      ],
      "metadata": {
        "id": "HjRmIGziBs_r"
      },
      "execution_count": null,
      "outputs": []
    },
    {
      "cell_type": "code",
      "source": [
        "# Normaliser les pixels\n",
        "x_train = x_train.astype('float32')\n",
        "x_test = x_test.astype('float32')\n",
        "\n",
        "x_train = x_train / 255\n",
        "x_test = x_test / 255\n",
        "\n",
        "print(x_train[0].shape)\n",
        "\n",
        "x_train=x_train.reshape(60000,28,28,1)\n",
        "x_test=x_test.reshape(10000,28,28,1)"
      ],
      "metadata": {
        "colab": {
          "base_uri": "https://localhost:8080/"
        },
        "id": "B2yB5-g_FvFV",
        "outputId": "e68817cd-09c5-4f68-a539-d6047814ed7a"
      },
      "execution_count": null,
      "outputs": [
        {
          "output_type": "stream",
          "name": "stdout",
          "text": [
            "(28, 28)\n"
          ]
        }
      ]
    },
    {
      "cell_type": "code",
      "source": [
        "plt.imshow(x_train[0,:,:,0])"
      ],
      "metadata": {
        "colab": {
          "base_uri": "https://localhost:8080/",
          "height": 282
        },
        "id": "xmLKx7KhHP3_",
        "outputId": "c7876fb3-3482-46b4-ad06-fdc17a903a84"
      },
      "execution_count": null,
      "outputs": [
        {
          "output_type": "execute_result",
          "data": {
            "text/plain": [
              "<matplotlib.image.AxesImage at 0x7f4ac05ea650>"
            ]
          },
          "metadata": {},
          "execution_count": 4
        },
        {
          "output_type": "display_data",
          "data": {
            "image/png": "[encoded data removed]",
            "text/plain": [
              "<Figure size 432x288 with 1 Axes>"
            ]
          },
          "metadata": {
            "needs_background": "light"
          }
        }
      ]
    },
    {
      "cell_type": "code",
      "source": [
        "import numpy as np\n",
        "from PIL import Image as im\n",
        "#plt.imshow(x_train[0,:,:,0],cmap = \"gray\")\n",
        "data = im.fromarray(x_train[0,:,:,0])\n",
        "data = data.convert(\"L\")\n",
        "data.save('gfg_dummy_pic.png')\n",
        "data.show()\n",
        "#plt.savefig('Image5.png')"
      ],
      "metadata": {
        "id": "26wl4L0BDDE6"
      },
      "execution_count": null,
      "outputs": []
    },
    {
      "cell_type": "code",
      "source": [
        "image = im.fromarray(x_train[0,:,:,0])\n",
        "image = image.convert(\"L\")\n",
        "image.save(\"filename.jpeg\")"
      ],
      "metadata": {
        "id": "0PYpsHKtGle2"
      },
      "execution_count": null,
      "outputs": []
    },
    {
      "cell_type": "code",
      "source": [
        "# normalize\n",
        "# Crée CCN\n",
        "# 1 Conv2D\n",
        "# 2 Pooling\n",
        "model = tf.keras.Sequential()\n",
        "model.add(tf.keras.layers.Conv2D(32,(3,3),input_shape=(28,28,1)))\n",
        "model.add(tf.keras.layers.Activation('relu'))\n",
        "model.add(tf.keras.layers.MaxPool2D((2,2)))\n",
        "model.add(tf.keras.layers.Flatten())\n",
        "model.add(tf.keras.layers.Dense(10))\n",
        "model.summary()\n",
        "model.compile(optimizer='adam',loss=tf.keras.losses.SparseCategoricalCrossentropy(from_logits=True),metrics=\"accuracy\")\n",
        "model.fit(x_train,y_train,epochs=10,validation_split=0.1)\n",
        "model.evaluate(x_test,y_test)\n",
        "\n",
        "# Flatten\n",
        "# Couche dense\n",
        "# 4 Quantification\n",
        "\n"
      ],
      "metadata": {
        "id": "7ds_CpS9B-ut",
        "colab": {
          "base_uri": "https://localhost:8080/"
        },
        "outputId": "60e29515-8a2c-4b40-dae8-c54ec376edfa"
      },
      "execution_count": null,
      "outputs": [
        {
          "output_type": "stream",
          "name": "stdout",
          "text": [
            "Model: \"sequential_47\"\n",
            "_________________________________________________________________\n",
            " Layer (type)                Output Shape              Param #   \n",
            "=================================================================\n",
            " conv2d_6 (Conv2D)           (None, 26, 26, 32)        320       \n",
            "                                                                 \n",
            " activation_17 (Activation)  (None, 26, 26, 32)        0         \n",
            "                                                                 \n",
            " max_pooling2d_45 (MaxPoolin  (None, 13, 13, 32)       0         \n",
            " g2D)                                                            \n",
            "                                                                 \n",
            " flatten_21 (Flatten)        (None, 5408)              0         \n",
            "                                                                 \n",
            " dense_6 (Dense)             (None, 10)                54090     \n",
            "                                                                 \n",
            "=================================================================\n",
            "Total params: 54,410\n",
            "Trainable params: 54,410\n",
            "Non-trainable params: 0\n",
            "_________________________________________________________________\n",
            "Epoch 1/10\n",
            "1688/1688 [==============================] - 31s 18ms/step - loss: 0.2340 - accuracy: 0.9340 - val_loss: 0.0886 - val_accuracy: 0.9772\n",
            "Epoch 2/10\n",
            "1688/1688 [==============================] - 25s 15ms/step - loss: 0.0849 - accuracy: 0.9763 - val_loss: 0.0688 - val_accuracy: 0.9812\n",
            "Epoch 3/10\n",
            "1688/1688 [==============================] - 26s 15ms/step - loss: 0.0627 - accuracy: 0.9816 - val_loss: 0.0612 - val_accuracy: 0.9828\n",
            "Epoch 4/10\n",
            "1688/1688 [==============================] - 28s 16ms/step - loss: 0.0511 - accuracy: 0.9844 - val_loss: 0.0539 - val_accuracy: 0.9850\n",
            "Epoch 5/10\n",
            "1688/1688 [==============================] - 25s 15ms/step - loss: 0.0434 - accuracy: 0.9871 - val_loss: 0.0548 - val_accuracy: 0.9843\n",
            "Epoch 6/10\n",
            "1688/1688 [==============================] - 25s 15ms/step - loss: 0.0371 - accuracy: 0.9881 - val_loss: 0.0592 - val_accuracy: 0.9833\n",
            "Epoch 7/10\n",
            "1688/1688 [==============================] - 25s 15ms/step - loss: 0.0313 - accuracy: 0.9905 - val_loss: 0.0585 - val_accuracy: 0.9842\n",
            "Epoch 8/10\n",
            "1688/1688 [==============================] - 25s 15ms/step - loss: 0.0268 - accuracy: 0.9919 - val_loss: 0.0515 - val_accuracy: 0.9860\n",
            "Epoch 9/10\n",
            "1688/1688 [==============================] - 25s 15ms/step - loss: 0.0233 - accuracy: 0.9927 - val_loss: 0.0606 - val_accuracy: 0.9852\n",
            "Epoch 10/10\n",
            "1688/1688 [==============================] - 25s 15ms/step - loss: 0.0196 - accuracy: 0.9940 - val_loss: 0.0569 - val_accuracy: 0.9855\n",
            "313/313 [==============================] - 2s 6ms/step - loss: 0.0561 - accuracy: 0.9828\n"
          ]
        },
        {
          "output_type": "execute_result",
          "data": {
            "text/plain": [
              "[0.05614135041832924, 0.9828000068664551]"
            ]
          },
          "metadata": {},
          "execution_count": 27
        }
      ]
    },
    {
      "cell_type": "code",
      "source": [
        "model_1= model1 = tf.keras.Sequential()\n",
        "\n",
        "k = k_= tf.keras.Sequential()\n",
        "k = k_ = tf.keras.Input((28,28,1))\n",
        "k = QConv2D(32, (3, 3),\n",
        "       kernel_quantizer=\"stochastic_ternary\",\n",
        "        bias_quantizer=\"ternary\")(k)\n",
        "k = QActivation(\"quantized_relu(4)\")(k)\n",
        "k = tf.keras.layers.MaxPool2D((2,2))(k)\n",
        "\n",
        "k = tf.keras.layers.Flatten()(k)\n",
        "k = QDense(10,\n",
        "          kernel_quantizer=quantized_bits(4),\n",
        "          bias_quantizer=quantized_bits(4))(k)\n",
        "k = QActivation(\"quantized_bits(20, 5)\")(k)\n",
        "k = Model( inputs=k_ , outputs = k)\n",
        "k.compile(optimizer='adam',loss=tf.keras.losses.SparseCategoricalCrossentropy(from_logits=True),metrics=\"accuracy\")\n",
        "k.summary()\n",
        "k.fit(x_train,y_train,epochs=10,validation_split=0.1)\n",
        "k.evaluate(x_test,y_test)\n",
        "\n"
      ],
      "metadata": {
        "id": "3IFUv-mvCNj-",
        "colab": {
          "base_uri": "https://localhost:8080/"
        },
        "outputId": "c5168890-04f2-44de-a4b9-23c64a901a12"
      },
      "execution_count": null,
      "outputs": [
        {
          "output_type": "stream",
          "name": "stdout",
          "text": [
            "Model: \"model_17\"\n",
            "_________________________________________________________________\n",
            " Layer (type)                Output Shape              Param #   \n",
            "=================================================================\n",
            " input_22 (InputLayer)       [(None, 28, 28, 1)]       0         \n",
            "                                                                 \n",
            " q_conv2d_45 (QConv2D)       (None, 26, 26, 32)        320       \n",
            "                                                                 \n",
            " q_activation_97 (QActivatio  (None, 26, 26, 32)       0         \n",
            " n)                                                              \n",
            "                                                                 \n",
            " max_pooling2d_48 (MaxPoolin  (None, 13, 13, 32)       0         \n",
            " g2D)                                                            \n",
            "                                                                 \n",
            " flatten_24 (Flatten)        (None, 5408)              0         \n",
            "                                                                 \n",
            " q_dense_17 (QDense)         (None, 10)                54090     \n",
            "                                                                 \n",
            " q_activation_98 (QActivatio  (None, 10)               0         \n",
            " n)                                                              \n",
            "                                                                 \n",
            "=================================================================\n",
            "Total params: 54,410\n",
            "Trainable params: 54,410\n",
            "Non-trainable params: 0\n",
            "_________________________________________________________________\n",
            "Epoch 1/10\n",
            "1688/1688 [==============================] - 52s 30ms/step - loss: 0.2776 - accuracy: 0.9165 - val_loss: 0.3490 - val_accuracy: 0.8932\n",
            "Epoch 2/10\n",
            "1688/1688 [==============================] - 51s 30ms/step - loss: 0.1942 - accuracy: 0.9409 - val_loss: 0.1753 - val_accuracy: 0.9518\n",
            "Epoch 3/10\n",
            "1688/1688 [==============================] - 49s 29ms/step - loss: 0.1504 - accuracy: 0.9546 - val_loss: 0.1099 - val_accuracy: 0.9705\n",
            "Epoch 4/10\n",
            "1688/1688 [==============================] - 49s 29ms/step - loss: 0.1135 - accuracy: 0.9649 - val_loss: 0.1050 - val_accuracy: 0.9740\n",
            "Epoch 5/10\n",
            "1688/1688 [==============================] - 49s 29ms/step - loss: 0.1048 - accuracy: 0.9677 - val_loss: 0.1320 - val_accuracy: 0.9637\n",
            "Epoch 6/10\n",
            "1688/1688 [==============================] - 49s 29ms/step - loss: 0.0978 - accuracy: 0.9701 - val_loss: 0.0918 - val_accuracy: 0.9747\n",
            "Epoch 7/10\n",
            "1688/1688 [==============================] - 49s 29ms/step - loss: 0.0845 - accuracy: 0.9751 - val_loss: 0.0699 - val_accuracy: 0.9823\n",
            "Epoch 8/10\n",
            "1688/1688 [==============================] - 49s 29ms/step - loss: 0.0801 - accuracy: 0.9748 - val_loss: 0.0880 - val_accuracy: 0.9797\n",
            "Epoch 9/10\n",
            "1688/1688 [==============================] - 49s 29ms/step - loss: 0.0847 - accuracy: 0.9737 - val_loss: 0.0990 - val_accuracy: 0.9755\n",
            "Epoch 10/10\n",
            "1688/1688 [==============================] - 49s 29ms/step - loss: 0.0949 - accuracy: 0.9714 - val_loss: 0.1614 - val_accuracy: 0.9607\n",
            "313/313 [==============================] - 6s 18ms/step - loss: 0.1801 - accuracy: 0.9520\n"
          ]
        },
        {
          "output_type": "execute_result",
          "data": {
            "text/plain": [
              "[0.18012067675590515, 0.9520000219345093]"
            ]
          },
          "metadata": {},
          "execution_count": 32
        }
      ]
    },
    {
      "cell_type": "code",
      "source": [
        "k.evaluate(x_test,y_test)"
      ],
      "metadata": {
        "colab": {
          "base_uri": "https://localhost:8080/"
        },
        "id": "G95AOR5bMFCb",
        "outputId": "6cc2c6f8-7175-4201-a2cc-1c7d64d26e59"
      },
      "execution_count": null,
      "outputs": [
        {
          "output_type": "stream",
          "name": "stdout",
          "text": [
            "313/313 [==============================] - 6s 18ms/step - loss: 0.0954 - accuracy: 0.9730\n"
          ]
        },
        {
          "output_type": "execute_result",
          "data": {
            "text/plain": [
              "[0.09539094567298889, 0.9729999899864197]"
            ]
          },
          "metadata": {},
          "execution_count": 31
        }
      ]
    },
    {
      "cell_type": "code",
      "source": [
        "model.save('model',save_format='tf')"
      ],
      "metadata": {
        "colab": {
          "base_uri": "https://localhost:8080/"
        },
        "id": "b-AOreXUPX2r",
        "outputId": "2abb7184-8219-4000-fc03-4c025cf3dde4"
      },
      "execution_count": null,
      "outputs": [
        {
          "output_type": "stream",
          "name": "stdout",
          "text": [
            "INFO:tensorflow:Assets written to: model/assets\n"
          ]
        }
      ]
    },
    {
      "cell_type": "code",
      "source": [
        "!pip install tf2onnx"
      ],
      "metadata": {
        "colab": {
          "base_uri": "https://localhost:8080/"
        },
        "id": "jUNc7-UVPsQU",
        "outputId": "20f550ee-6f87-4b73-9bbe-c7d4d6794236"
      },
      "execution_count": null,
      "outputs": [
        {
          "output_type": "stream",
          "name": "stdout",
          "text": [
            "Requirement already satisfied: tf2onnx in /usr/local/lib/python3.7/dist-packages (1.9.3)\n",
            "Requirement already satisfied: onnx>=1.4.1 in /usr/local/lib/python3.7/dist-packages (from tf2onnx) (1.10.2)\n",
            "Requirement already satisfied: numpy>=1.14.1 in /usr/local/lib/python3.7/dist-packages (from tf2onnx) (1.19.5)\n",
            "Requirement already satisfied: flatbuffers~=1.12 in /usr/local/lib/python3.7/dist-packages (from tf2onnx) (1.12)\n",
            "Requirement already satisfied: requests in /usr/local/lib/python3.7/dist-packages (from tf2onnx) (2.23.0)\n",
            "Requirement already satisfied: six in /usr/local/lib/python3.7/dist-packages (from tf2onnx) (1.15.0)\n",
            "Requirement already satisfied: typing-extensions>=3.6.2.1 in /usr/local/lib/python3.7/dist-packages (from onnx>=1.4.1->tf2onnx) (3.10.0.2)\n",
            "Requirement already satisfied: protobuf in /usr/local/lib/python3.7/dist-packages (from onnx>=1.4.1->tf2onnx) (3.17.3)\n",
            "Requirement already satisfied: certifi>=2017.4.17 in /usr/local/lib/python3.7/dist-packages (from requests->tf2onnx) (2021.10.8)\n",
            "Requirement already satisfied: idna<3,>=2.5 in /usr/local/lib/python3.7/dist-packages (from requests->tf2onnx) (2.10)\n",
            "Requirement already satisfied: urllib3!=1.25.0,!=1.25.1,<1.26,>=1.21.1 in /usr/local/lib/python3.7/dist-packages (from requests->tf2onnx) (1.24.3)\n",
            "Requirement already satisfied: chardet<4,>=3.0.2 in /usr/local/lib/python3.7/dist-packages (from requests->tf2onnx) (3.0.4)\n"
          ]
        }
      ]
    },
    {
      "cell_type": "code",
      "source": [
        "!python -m tf2onnx.convert --opset 11 --fold_const --saved-model $MODEL/model --output $MODEL.onnx"
      ],
      "metadata": {
        "colab": {
          "base_uri": "https://localhost:8080/"
        },
        "id": "5zRAJRUZQBil",
        "outputId": "283ac511-adc6-469d-b7fb-a96bcb809ae6"
      },
      "execution_count": null,
      "outputs": [
        {
          "output_type": "stream",
          "name": "stdout",
          "text": [
            "/usr/lib/python3.7/runpy.py:125: RuntimeWarning: 'tf2onnx.convert' found in sys.modules after import of package 'tf2onnx', but prior to execution of 'tf2onnx.convert'; this may result in unpredictable behaviour\n",
            "  warn(RuntimeWarning(msg))\n",
            "2022-02-03 15:53:08,784 - WARNING - '--tag' not specified for saved_model. Using --tag serve\n",
            "Traceback (most recent call last):\n",
            "  File \"/usr/lib/python3.7/runpy.py\", line 193, in _run_module_as_main\n",
            "    \"__main__\", mod_spec)\n",
            "  File \"/usr/lib/python3.7/runpy.py\", line 85, in _run_code\n",
            "    exec(code, run_globals)\n",
            "  File \"/usr/local/lib/python3.7/dist-packages/tf2onnx/convert.py\", line 633, in <module>\n",
            "    main()\n",
            "  File \"/usr/local/lib/python3.7/dist-packages/tf2onnx/convert.py\", line 236, in main\n",
            "    use_graph_names=args.use_graph_names)\n",
            "  File \"/usr/local/lib/python3.7/dist-packages/tf2onnx/tf_loader.py\", line 615, in from_saved_model\n",
            "    tag, signatures, concrete_function, large_model, use_graph_names)\n",
            "  File \"/usr/local/lib/python3.7/dist-packages/tf2onnx/tf_loader.py\", line 552, in _from_saved_model_v2\n",
            "    imported = tf.saved_model.load(model_path, tags=tag)  # pylint: disable=no-value-for-parameter\n",
            "  File \"/usr/local/lib/python3.7/dist-packages/tensorflow/python/saved_model/load.py\", line 900, in load\n",
            "    result = load_internal(export_dir, tags, options)[\"root\"]\n",
            "  File \"/usr/local/lib/python3.7/dist-packages/tensorflow/python/saved_model/load.py\", line 913, in load_internal\n",
            "    loader_impl.parse_saved_model_with_debug_info(export_dir))\n",
            "  File \"/usr/local/lib/python3.7/dist-packages/tensorflow/python/saved_model/loader_impl.py\", line 60, in parse_saved_model_with_debug_info\n",
            "    saved_model = _parse_saved_model(export_dir)\n",
            "  File \"/usr/local/lib/python3.7/dist-packages/tensorflow/python/saved_model/loader_impl.py\", line 119, in parse_saved_model\n",
            "    f\"SavedModel file does not exist at: {export_dir}{os.path.sep}\"\n",
            "OSError: SavedModel file does not exist at: /model/{saved_model.pbtxt|saved_model.pb}\n"
          ]
        }
      ]
    },
    {
      "cell_type": "code",
      "source": [
        "model.evaluate(x_test,y_test)"
      ],
      "metadata": {
        "colab": {
          "base_uri": "https://localhost:8080/"
        },
        "id": "D_VO9X__GcNS",
        "outputId": "03398b67-1bf0-4eca-955c-6cbc1207d7d0"
      },
      "execution_count": null,
      "outputs": [
        {
          "output_type": "stream",
          "name": "stdout",
          "text": [
            "313/313 [==============================] - 3s 9ms/step - loss: 0.0643 - accuracy: 0.9789\n"
          ]
        },
        {
          "output_type": "execute_result",
          "data": {
            "text/plain": [
              "[0.0642969161272049, 0.9789000153541565]"
            ]
          },
          "metadata": {},
          "execution_count": 13
        }
      ]
    },
    {
      "cell_type": "code",
      "source": [
        "model.save(\"Model.h5\")"
      ],
      "metadata": {
        "id": "HAuvu9Lq_YKV"
      },
      "execution_count": null,
      "outputs": []
    },
    {
      "cell_type": "code",
      "source": [
        "model_1= model1 = tf.keras.Sequential()\n",
        "model_2= model2 = tf.keras.Sequential()\n",
        "model_3= model3 = tf.keras.Sequential()\n",
        "model_4= model4 = tf.keras.Sequential()\n",
        "model_=[model1,model2,model3,model4]\n",
        "model__=[model_1,model_2,model_3,model_4]\n",
        "compteur = 1\n",
        "for k in model_ :\n",
        "\n",
        "  k = tf.keras.Sequential()\n",
        "  k = model__[compteur - 1] = tf.keras.Input((28,28,1))\n",
        "\n",
        "  for p in range(0,compteur):\n",
        "    k = QConv2D(32/(p+1), (3, 3),\n",
        "            kernel_quantizer=\"stochastic_ternary\",\n",
        "            bias_quantizer=\"ternary\")(k)\n",
        "    k = QActivation(\"quantized_relu(3)\")(k)\n",
        "    k = tf.keras.layers.MaxPool2D((2,2))(k)\n",
        "    k = QActivation(\"quantized_relu(3)\")(k)\n",
        "\n",
        "  k = tf.keras.layers.Flatten()(k)\n",
        "  k = QDense(10,\n",
        "          kernel_quantizer=quantized_bits(4),\n",
        "          bias_quantizer=quantized_bits(4))(k)\n",
        "  k = QActivation(\"quantized_bits(20, 5)\")(k)\n",
        "  k = tf.keras.layers.Activation(\"softmax\")(k)\n",
        "  k = Model( inputs=model__[compteur - 1] , outputs = k)\n",
        "  k.compile(optimizer='adam',loss=tf.keras.losses.SparseCategoricalCrossentropy(from_logits=True),metrics=\"accuracy\")\n",
        "  k.summary()\n",
        "  k.fit(x_train,y_train,epochs=2,validation_split=0.1)\n",
        "  compteur += 1"
      ],
      "metadata": {
        "colab": {
          "base_uri": "https://localhost:8080/",
          "height": 1000
        },
        "id": "aODA-eRwMtr4",
        "outputId": "9297e5c3-c2c4-4f71-9f0d-608aa4cc4de7"
      },
      "execution_count": null,
      "outputs": [
        {
          "output_type": "stream",
          "name": "stdout",
          "text": [
            "Model: \"model_10\"\n",
            "_________________________________________________________________\n",
            " Layer (type)                Output Shape              Param #   \n",
            "=================================================================\n",
            " input_14 (InputLayer)       [(None, 28, 28, 1)]       0         \n",
            "                                                                 \n",
            " q_conv2d_31 (QConv2D)       (None, 26, 26, 32)        320       \n",
            "                                                                 \n",
            " q_activation_66 (QActivatio  (None, 26, 26, 32)       0         \n",
            " n)                                                              \n",
            "                                                                 \n",
            " max_pooling2d_30 (MaxPoolin  (None, 13, 13, 32)       0         \n",
            " g2D)                                                            \n",
            "                                                                 \n",
            " q_activation_67 (QActivatio  (None, 13, 13, 32)       0         \n",
            " n)                                                              \n",
            "                                                                 \n",
            " flatten_12 (Flatten)        (None, 5408)              0         \n",
            "                                                                 \n",
            " q_dense_10 (QDense)         (None, 10)                54090     \n",
            "                                                                 \n",
            " q_activation_68 (QActivatio  (None, 10)               0         \n",
            " n)                                                              \n",
            "                                                                 \n",
            " activation_10 (Activation)  (None, 10)                0         \n",
            "                                                                 \n",
            "=================================================================\n",
            "Total params: 54,410\n",
            "Trainable params: 54,410\n",
            "Non-trainable params: 0\n",
            "_________________________________________________________________\n",
            "Epoch 1/2\n"
          ]
        },
        {
          "output_type": "stream",
          "name": "stderr",
          "text": [
            "/usr/local/lib/python3.7/dist-packages/tensorflow/python/util/dispatch.py:1096: UserWarning: \"`sparse_categorical_crossentropy` received `from_logits=True`, but the `output` argument was produced by a sigmoid or softmax activation and thus does not represent logits. Was this intended?\"\n",
            "  return dispatch_target(*args, **kwargs)\n"
          ]
        },
        {
          "output_type": "stream",
          "name": "stdout",
          "text": [
            "1688/1688 [==============================] - 57s 33ms/step - loss: 0.3112 - accuracy: 0.9059 - val_loss: 0.1852 - val_accuracy: 0.9472\n",
            "Epoch 2/2\n",
            "1688/1688 [==============================] - 54s 32ms/step - loss: 0.1648 - accuracy: 0.9498 - val_loss: 0.1293 - val_accuracy: 0.9630\n",
            "Model: \"model_11\"\n",
            "_________________________________________________________________\n",
            " Layer (type)                Output Shape              Param #   \n",
            "=================================================================\n",
            " input_15 (InputLayer)       [(None, 28, 28, 1)]       0         \n",
            "                                                                 \n",
            " q_conv2d_32 (QConv2D)       (None, 26, 26, 32)        320       \n",
            "                                                                 \n",
            " q_activation_69 (QActivatio  (None, 26, 26, 32)       0         \n",
            " n)                                                              \n",
            "                                                                 \n",
            " max_pooling2d_31 (MaxPoolin  (None, 13, 13, 32)       0         \n",
            " g2D)                                                            \n",
            "                                                                 \n",
            " q_activation_70 (QActivatio  (None, 13, 13, 32)       0         \n",
            " n)                                                              \n",
            "                                                                 \n",
            " q_conv2d_33 (QConv2D)       (None, 11, 11, 16)        4624      \n",
            "                                                                 \n",
            " q_activation_71 (QActivatio  (None, 11, 11, 16)       0         \n",
            " n)                                                              \n",
            "                                                                 \n",
            " max_pooling2d_32 (MaxPoolin  (None, 5, 5, 16)         0         \n",
            " g2D)                                                            \n",
            "                                                                 \n",
            " q_activation_72 (QActivatio  (None, 5, 5, 16)         0         \n",
            " n)                                                              \n",
            "                                                                 \n",
            " flatten_13 (Flatten)        (None, 400)               0         \n",
            "                                                                 \n",
            " q_dense_11 (QDense)         (None, 10)                4010      \n",
            "                                                                 \n",
            " q_activation_73 (QActivatio  (None, 10)               0         \n",
            " n)                                                              \n",
            "                                                                 \n",
            " activation_11 (Activation)  (None, 10)                0         \n",
            "                                                                 \n",
            "=================================================================\n",
            "Total params: 8,954\n",
            "Trainable params: 8,954\n",
            "Non-trainable params: 0\n",
            "_________________________________________________________________\n",
            "Epoch 1/2\n",
            "1688/1688 [==============================] - 68s 39ms/step - loss: 0.3400 - accuracy: 0.9108 - val_loss: 0.1164 - val_accuracy: 0.9703\n",
            "Epoch 2/2\n",
            "1688/1688 [==============================] - 64s 38ms/step - loss: 0.1350 - accuracy: 0.9617 - val_loss: 0.0920 - val_accuracy: 0.9745\n",
            "Model: \"model_12\"\n",
            "_________________________________________________________________\n",
            " Layer (type)                Output Shape              Param #   \n",
            "=================================================================\n",
            " input_16 (InputLayer)       [(None, 28, 28, 1)]       0         \n",
            "                                                                 \n",
            " q_conv2d_34 (QConv2D)       (None, 26, 26, 32)        320       \n",
            "                                                                 \n",
            " q_activation_74 (QActivatio  (None, 26, 26, 32)       0         \n",
            " n)                                                              \n",
            "                                                                 \n",
            " max_pooling2d_33 (MaxPoolin  (None, 13, 13, 32)       0         \n",
            " g2D)                                                            \n",
            "                                                                 \n",
            " q_activation_75 (QActivatio  (None, 13, 13, 32)       0         \n",
            " n)                                                              \n",
            "                                                                 \n",
            " q_conv2d_35 (QConv2D)       (None, 11, 11, 16)        4624      \n",
            "                                                                 \n",
            " q_activation_76 (QActivatio  (None, 11, 11, 16)       0         \n",
            " n)                                                              \n",
            "                                                                 \n",
            " max_pooling2d_34 (MaxPoolin  (None, 5, 5, 16)         0         \n",
            " g2D)                                                            \n",
            "                                                                 \n",
            " q_activation_77 (QActivatio  (None, 5, 5, 16)         0         \n",
            " n)                                                              \n",
            "                                                                 \n",
            " q_conv2d_36 (QConv2D)       (None, 3, 3, 10)          1450      \n",
            "                                                                 \n",
            " q_activation_78 (QActivatio  (None, 3, 3, 10)         0         \n",
            " n)                                                              \n",
            "                                                                 \n",
            " max_pooling2d_35 (MaxPoolin  (None, 1, 1, 10)         0         \n",
            " g2D)                                                            \n",
            "                                                                 \n",
            " q_activation_79 (QActivatio  (None, 1, 1, 10)         0         \n",
            " n)                                                              \n",
            "                                                                 \n",
            " flatten_14 (Flatten)        (None, 10)                0         \n",
            "                                                                 \n",
            " q_dense_12 (QDense)         (None, 10)                110       \n",
            "                                                                 \n",
            " q_activation_80 (QActivatio  (None, 10)               0         \n",
            " n)                                                              \n",
            "                                                                 \n",
            " activation_12 (Activation)  (None, 10)                0         \n",
            "                                                                 \n",
            "=================================================================\n",
            "Total params: 6,504\n",
            "Trainable params: 6,504\n",
            "Non-trainable params: 0\n",
            "_________________________________________________________________\n",
            "Epoch 1/2\n",
            "1688/1688 [==============================] - 72s 41ms/step - loss: 1.4154 - accuracy: 0.6261 - val_loss: 0.8263 - val_accuracy: 0.8580\n",
            "Epoch 2/2\n",
            "1688/1688 [==============================] - 66s 39ms/step - loss: 0.7290 - accuracy: 0.8559 - val_loss: 0.6025 - val_accuracy: 0.8952\n"
          ]
        },
        {
          "output_type": "error",
          "ename": "ValueError",
          "evalue": "ignored",
          "traceback": [
            "\u001b[0;31m---------------------------------------------------------------------------\u001b[0m",
            "\u001b[0;31mValueError\u001b[0m                                Traceback (most recent call last)",
            "\u001b[0;32m<ipython-input-21-85653bd59485>\u001b[0m in \u001b[0;36m<module>\u001b[0;34m()\u001b[0m\n\u001b[1;32m     14\u001b[0m     k = QConv2D(32/(p+1), (3, 3),\n\u001b[1;32m     15\u001b[0m             \u001b[0mkernel_quantizer\u001b[0m\u001b[0;34m=\u001b[0m\u001b[0;34m\"stochastic_ternary\"\u001b[0m\u001b[0;34m,\u001b[0m\u001b[0;34m\u001b[0m\u001b[0;34m\u001b[0m\u001b[0m\n\u001b[0;32m---> 16\u001b[0;31m             bias_quantizer=\"ternary\")(k)\n\u001b[0m\u001b[1;32m     17\u001b[0m     \u001b[0mk\u001b[0m \u001b[0;34m=\u001b[0m \u001b[0mQActivation\u001b[0m\u001b[0;34m(\u001b[0m\u001b[0;34m\"quantized_relu(3)\"\u001b[0m\u001b[0;34m)\u001b[0m\u001b[0;34m(\u001b[0m\u001b[0mk\u001b[0m\u001b[0;34m)\u001b[0m\u001b[0;34m\u001b[0m\u001b[0;34m\u001b[0m\u001b[0m\n\u001b[1;32m     18\u001b[0m     \u001b[0mk\u001b[0m \u001b[0;34m=\u001b[0m \u001b[0mtf\u001b[0m\u001b[0;34m.\u001b[0m\u001b[0mkeras\u001b[0m\u001b[0;34m.\u001b[0m\u001b[0mlayers\u001b[0m\u001b[0;34m.\u001b[0m\u001b[0mMaxPool2D\u001b[0m\u001b[0;34m(\u001b[0m\u001b[0;34m(\u001b[0m\u001b[0;36m2\u001b[0m\u001b[0;34m,\u001b[0m\u001b[0;36m2\u001b[0m\u001b[0;34m)\u001b[0m\u001b[0;34m)\u001b[0m\u001b[0;34m(\u001b[0m\u001b[0mk\u001b[0m\u001b[0;34m)\u001b[0m\u001b[0;34m\u001b[0m\u001b[0;34m\u001b[0m\u001b[0m\n",
            "\u001b[0;32m/usr/local/lib/python3.7/dist-packages/keras/utils/traceback_utils.py\u001b[0m in \u001b[0;36merror_handler\u001b[0;34m(*args, **kwargs)\u001b[0m\n\u001b[1;32m     65\u001b[0m     \u001b[0;32mexcept\u001b[0m \u001b[0mException\u001b[0m \u001b[0;32mas\u001b[0m \u001b[0me\u001b[0m\u001b[0;34m:\u001b[0m  \u001b[0;31m# pylint: disable=broad-except\u001b[0m\u001b[0;34m\u001b[0m\u001b[0;34m\u001b[0m\u001b[0m\n\u001b[1;32m     66\u001b[0m       \u001b[0mfiltered_tb\u001b[0m \u001b[0;34m=\u001b[0m \u001b[0m_process_traceback_frames\u001b[0m\u001b[0;34m(\u001b[0m\u001b[0me\u001b[0m\u001b[0;34m.\u001b[0m\u001b[0m__traceback__\u001b[0m\u001b[0;34m)\u001b[0m\u001b[0;34m\u001b[0m\u001b[0;34m\u001b[0m\u001b[0m\n\u001b[0;32m---> 67\u001b[0;31m       \u001b[0;32mraise\u001b[0m \u001b[0me\u001b[0m\u001b[0;34m.\u001b[0m\u001b[0mwith_traceback\u001b[0m\u001b[0;34m(\u001b[0m\u001b[0mfiltered_tb\u001b[0m\u001b[0;34m)\u001b[0m \u001b[0;32mfrom\u001b[0m \u001b[0;32mNone\u001b[0m\u001b[0;34m\u001b[0m\u001b[0;34m\u001b[0m\u001b[0m\n\u001b[0m\u001b[1;32m     68\u001b[0m     \u001b[0;32mfinally\u001b[0m\u001b[0;34m:\u001b[0m\u001b[0;34m\u001b[0m\u001b[0;34m\u001b[0m\u001b[0m\n\u001b[1;32m     69\u001b[0m       \u001b[0;32mdel\u001b[0m \u001b[0mfiltered_tb\u001b[0m\u001b[0;34m\u001b[0m\u001b[0;34m\u001b[0m\u001b[0m\n",
            "\u001b[0;32m/usr/local/lib/python3.7/dist-packages/keras/layers/convolutional.py\u001b[0m in \u001b[0;36mcompute_output_shape\u001b[0;34m(self, input_shape)\u001b[0m\n\u001b[1;32m    301\u001b[0m     \u001b[0;32mexcept\u001b[0m \u001b[0mValueError\u001b[0m\u001b[0;34m:\u001b[0m\u001b[0;34m\u001b[0m\u001b[0;34m\u001b[0m\u001b[0m\n\u001b[1;32m    302\u001b[0m       raise ValueError(\n\u001b[0;32m--> 303\u001b[0;31m           \u001b[0;34mf'One of the dimensions in the output is <= 0 '\u001b[0m\u001b[0;34m\u001b[0m\u001b[0;34m\u001b[0m\u001b[0m\n\u001b[0m\u001b[1;32m    304\u001b[0m           \u001b[0;34mf'due to downsampling in {self.name}. Consider '\u001b[0m\u001b[0;34m\u001b[0m\u001b[0;34m\u001b[0m\u001b[0m\n\u001b[1;32m    305\u001b[0m           \u001b[0;34mf'increasing the input size. '\u001b[0m\u001b[0;34m\u001b[0m\u001b[0;34m\u001b[0m\u001b[0m\n",
            "\u001b[0;31mValueError\u001b[0m: One of the dimensions in the output is <= 0 due to downsampling in q_conv2d_40. Consider increasing the input size. Received input shape [None, 1, 1, 10] which would produce output shape with a zero or negative value in a dimension."
          ]
        }
      ]
    },
    {
      "cell_type": "code",
      "source": [],
      "metadata": {
        "id": "xmWsKHX6NQ2c"
      },
      "execution_count": null,
      "outputs": []
    },
    {
      "cell_type": "code",
      "source": [
        "\n"
      ],
      "metadata": {
        "id": "O_s3VFAENgrV"
      },
      "execution_count": null,
      "outputs": []
    },
    {
      "cell_type": "code",
      "source": [
        "model.summary()"
      ],
      "metadata": {
        "id": "4kDsLblVi-ox"
      },
      "execution_count": null,
      "outputs": []
    },
    {
      "cell_type": "code",
      "source": [
        "!python -m tf2onnx.convert \\\n",
        "        --saved-model model/ \\\n",
        "        --output model/mnist1.onnx \\\n",
        "        --opset 7"
      ],
      "metadata": {
        "id": "9kUHtvm8jCXH"
      },
      "execution_count": null,
      "outputs": []
    },
    {
      "cell_type": "code",
      "source": [
        "!ls"
      ],
      "metadata": {
        "id": "gl59Wf1ySrvL"
      },
      "execution_count": null,
      "outputs": []
    },
    {
      "cell_type": "code",
      "source": [],
      "metadata": {
        "id": "FOZrFiNYS9pa"
      },
      "execution_count": null,
      "outputs": []
    }
  ]
}