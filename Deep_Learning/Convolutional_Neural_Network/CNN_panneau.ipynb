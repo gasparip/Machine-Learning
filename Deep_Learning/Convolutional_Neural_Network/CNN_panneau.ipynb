{
  "cells": [
    {
      "cell_type": "code",
      "source": [
        "#installation tensorflow\n",
        "\n",
        "! pip install -q tensorflow-model-optimization\n",
        "\n"
      ],
      "metadata": {
        "colab": {
          "base_uri": "https://localhost:8080/"
        },
        "id": "Pua2xTrUORag",
        "outputId": "1a0cab56-b209-48f5-b340-3434c377cea0"
      },
      "execution_count": null,
      "outputs": [
        {
          "output_type": "stream",
          "name": "stdout",
          "text": [
            "\u001b[?25l\r\u001b[K     |█▌                              | 10 kB 20.8 MB/s eta 0:00:01\r\u001b[K     |███                             | 20 kB 12.8 MB/s eta 0:00:01\r\u001b[K     |████▋                           | 30 kB 10.4 MB/s eta 0:00:01\r\u001b[K     |██████▏                         | 40 kB 9.1 MB/s eta 0:00:01\r\u001b[K     |███████▊                        | 51 kB 5.7 MB/s eta 0:00:01\r\u001b[K     |█████████▎                      | 61 kB 5.7 MB/s eta 0:00:01\r\u001b[K     |██████████▊                     | 71 kB 5.8 MB/s eta 0:00:01\r\u001b[K     |████████████▎                   | 81 kB 6.4 MB/s eta 0:00:01\r\u001b[K     |█████████████▉                  | 92 kB 6.4 MB/s eta 0:00:01\r\u001b[K     |███████████████▍                | 102 kB 5.4 MB/s eta 0:00:01\r\u001b[K     |█████████████████               | 112 kB 5.4 MB/s eta 0:00:01\r\u001b[K     |██████████████████▌             | 122 kB 5.4 MB/s eta 0:00:01\r\u001b[K     |████████████████████            | 133 kB 5.4 MB/s eta 0:00:01\r\u001b[K     |█████████████████████▌          | 143 kB 5.4 MB/s eta 0:00:01\r\u001b[K     |███████████████████████         | 153 kB 5.4 MB/s eta 0:00:01\r\u001b[K     |████████████████████████▋       | 163 kB 5.4 MB/s eta 0:00:01\r\u001b[K     |██████████████████████████▏     | 174 kB 5.4 MB/s eta 0:00:01\r\u001b[K     |███████████████████████████▊    | 184 kB 5.4 MB/s eta 0:00:01\r\u001b[K     |█████████████████████████████▏  | 194 kB 5.4 MB/s eta 0:00:01\r\u001b[K     |██████████████████████████████▊ | 204 kB 5.4 MB/s eta 0:00:01\r\u001b[K     |████████████████████████████████| 213 kB 5.4 MB/s \n",
            "\u001b[?25h"
          ]
        }
      ]
    },
    {
      "cell_type": "code",
      "execution_count": null,
      "metadata": {
        "id": "uHyjEAJhAN2F"
      },
      "outputs": [],
      "source": [
        "import numpy as np\n",
        "import scipy as sp\n",
        "import pandas as pd\n",
        "import matplotlib.pyplot as plt\n",
        "import cv2\n",
        "\n",
        "import tensorflow as tf\n",
        "#@title Importation des Librairies\n",
        "import numpy as np\n",
        "import pandas as pd\n",
        "import tensorflow as tf\n",
        "import matplotlib.pyplot as plt\n",
        "import random\n",
        "import pathlib\n",
        "from sklearn.model_selection import train_test_split\n",
        "from sklearn.metrics import confusion_matrix\n",
        "import datetime\n",
        "import os\n",
        "from PIL import Image\n",
        "from sklearn.preprocessing import StandardScaler\n",
        "from sklearn.preprocessing import LabelEncoder\n",
        "\n",
        "from __future__ import print_function\n",
        "import keras\n",
        "from keras.models import Sequential\n",
        "from keras.layers import Dense, Dropout, Activation, Flatten\n",
        "from keras.layers import Conv2D, MaxPooling2D, ZeroPadding2D\n",
        "#from keras.optimizers import SGD\n",
        "from keras.regularizers import l2\n",
        "from keras.callbacks import Callback, LearningRateScheduler, TensorBoard, ModelCheckpoint\n",
        "from keras.preprocessing.image import ImageDataGenerator\n",
        "#from keras.utils import print_summary, to_categorical\n",
        "from keras import backend as K\n",
        "import sys\n",
        "import os\n",
        "import numpy as np\n",
        "from sklearn.preprocessing import LabelEncoder\n",
        "import tensorflow as tf\n",
        "import pandas as pd\n",
        "from sklearn.metrics import confusion_matrix\n",
        "import matplotlib.pyplot as plt\n",
        "from skimage.io import imread, imsave\n",
        "import matplotlib.pyplot as plt\n",
        "from skimage import transform\n",
        "from skimage.transform import rotate, AffineTransform\n",
        "from skimage.util import random_noise\n",
        "from skimage.filters import gaussian\n",
        "from skimage import util\n",
        "from skimage import exposure\n",
        "from scipy import ndimage\n",
        "import seaborn as sns\n",
        "\n",
        "\n",
        "import matplotlib.pyplot as plt #Plotting framework\n",
        "import pandas as pd #data analysis\n",
        "import sklearn\n",
        "from sklearn import metrics\n",
        "from skimage import io, color, exposure, transform\n",
        "from skimage.color import rgb2gray\n",
        "import cv2\n",
        "import h5py"
      ]
    },
    {
      "cell_type": "code",
      "execution_count": null,
      "metadata": {
        "colab": {
          "base_uri": "https://localhost:8080/"
        },
        "id": "F4CWBN2ilo9I",
        "outputId": "f6b3f99b-aaf5-415b-e449-7fdb4c3b74f6"
      },
      "outputs": [
        {
          "output_type": "stream",
          "name": "stdout",
          "text": [
            "Mounted at /content/drive\n",
            "dataset\t\t\t    list_train_images_32_32.npy  Model.h5\n",
            "list_test_images_32_32.npy  list_train_labels_32_32.npy  yolo.png\n",
            "list_test_labels_32_32.npy  model\n"
          ]
        }
      ],
      "source": [
        "from google.colab import drive\n",
        "drive.mount('/content/drive')\n",
        "import os\n",
        "PATH=\"/content/drive/MyDrive/Projet_Acceleration_Materielle/data2\"\n",
        "os.chdir(PATH)\n",
        "!ls"
      ]
    },
    {
      "cell_type": "code",
      "execution_count": null,
      "metadata": {
        "colab": {
          "base_uri": "https://localhost:8080/"
        },
        "id": "rkXTfDAEl402",
        "outputId": "49595cc4-102a-4fa9-c148-5c7f79a7e678"
      },
      "outputs": [
        {
          "output_type": "stream",
          "name": "stdout",
          "text": [
            "Img_train shape : (37008, 32, 32, 3)\n",
            "Img_test shape : (12630, 32, 32, 3)\n",
            "Label_train shape : (37008,)\n",
            "Label_test shape : (12630,)\n"
          ]
        }
      ],
      "source": [
        "\n",
        "img_test = np.load(\"list_test_images_32_32.npy\")\n",
        "label_train = np.load(\"list_train_labels_32_32.npy\")\n",
        "label_test = np.load(\"list_test_labels_32_32.npy\")\n",
        "img_train = np.load(\"list_train_images_32_32.npy\")\n",
        "\n",
        "print(f\"Img_train shape : {img_train.shape}\")\n",
        "print(f\"Img_test shape : {img_test.shape}\")\n",
        "print(f\"Label_train shape : {label_train.shape}\")\n",
        "print(f\"Label_test shape : {label_test.shape}\")"
      ]
    },
    {
      "cell_type": "code",
      "source": [
        "np.unique(label_test)"
      ],
      "metadata": {
        "colab": {
          "base_uri": "https://localhost:8080/"
        },
        "id": "5eQNICOJnEt2",
        "outputId": "cd8c7e94-5d00-4648-ec6e-150e88b2c6fa"
      },
      "execution_count": null,
      "outputs": [
        {
          "output_type": "execute_result",
          "data": {
            "text/plain": [
              "array([ 0,  1,  2,  3,  4,  5,  6,  7,  8,  9, 10, 11, 12, 13, 14, 15, 16,\n",
              "       17, 18, 19, 20, 21, 22, 23, 24, 25, 26, 27, 28, 29, 30, 31, 32, 33,\n",
              "       34, 35, 36, 37, 38, 39, 40, 41, 42])"
            ]
          },
          "metadata": {},
          "execution_count": 35
        }
      ]
    },
    {
      "cell_type": "code",
      "source": [
        "!ls"
      ],
      "metadata": {
        "id": "NJpHC5ivqsaW",
        "colab": {
          "base_uri": "https://localhost:8080/"
        },
        "outputId": "70565118-8722-4fb1-c543-45493c2943cb"
      },
      "execution_count": null,
      "outputs": [
        {
          "output_type": "stream",
          "name": "stdout",
          "text": [
            "dataset\t\t\t    list_train_images_32_32.npy  Model.h5\n",
            "list_test_images_32_32.npy  list_train_labels_32_32.npy  yolo.png\n",
            "list_test_labels_32_32.npy  model\n"
          ]
        }
      ]
    },
    {
      "cell_type": "code",
      "execution_count": null,
      "metadata": {
        "colab": {
          "base_uri": "https://localhost:8080/",
          "height": 282
        },
        "id": "yigJafxk9r3Z",
        "outputId": "64f31637-eddb-44c8-9b51-6fb4b63c7f83"
      },
      "outputs": [
        {
          "output_type": "execute_result",
          "data": {
            "text/plain": [
              "<matplotlib.image.AxesImage at 0x7efec3e65cd0>"
            ]
          },
          "metadata": {},
          "execution_count": 6
        },
        {
          "output_type": "display_data",
          "data": {
            "image/png": "[encoded data removed]",
            "text/plain": [
              "<Figure size 432x288 with 1 Axes>"
            ]
          },
          "metadata": {
            "needs_background": "light"
          }
        }
      ],
      "source": [
        "plt.imshow(img_train[776])"
      ]
    },
    {
      "cell_type": "code",
      "source": [
        "def convert_rgb2gray(img_array):\n",
        "  array = []\n",
        "  for i in range(len(img_array)):\n",
        "    array.append(skimage.color.rgb2gray(img_array[i]))\n",
        "\n",
        "  return np.array(array)"
      ],
      "metadata": {
        "id": "tCjQQ_N3ZveP"
      },
      "execution_count": null,
      "outputs": []
    },
    {
      "cell_type": "code",
      "source": [
        "import skimage\n",
        "def equalize_img(img_array,color = True):\n",
        "  array = []\n",
        "  if(color == False):\n",
        "    for i in range(len(img_array)):\n",
        "      img2 = img_array[i]\n",
        "      img2 = img2/img2.max()\n",
        "      img2 = 255*img2\n",
        "      array.append(cv2.equalizeHist(img2.astype(np.uint8)))\n",
        "    return np.array(array)\n",
        "  else:\n",
        "    for i in range(len(img_array)):\n",
        "      img = skimage.color.rgb2hsv(img_array[i])\n",
        "      #print(img.shape)\n",
        "      img2 = img[:,:,2]\n",
        "      #print(img2.dtype)\n",
        "\n",
        "      img2 = img2/img2.max()\n",
        "      img2 = 255*img2\n",
        "      img3  = cv2.equalizeHist(img2.astype(np.uint8))\n",
        "      #print(img3.shape)\n",
        "      img[:,:,2] = img3\n",
        "      array.append(skimage.color.hsv2rgb(img))\n",
        "    return np.array(array)\n",
        "  return"
      ],
      "metadata": {
        "id": "kxN5EZQwN5r8"
      },
      "execution_count": null,
      "outputs": []
    },
    {
      "cell_type": "code",
      "source": [
        "from sklearn.preprocessing import MinMaxScaler\n",
        "\n",
        "scaler = MinMaxScaler(feature_range=(0,1))\n",
        "img_train = scaler.fit_transform(img_train.reshape(-1,1))\n",
        "img_train.shape\n",
        "img_train = img_train.reshape(-1,32,32,3)\n",
        "img_train = (img_train * 255).astype(np.uint8)\n",
        "\n",
        "scaler2 = MinMaxScaler(feature_range=(0,1))\n",
        "img_test = scaler2.fit_transform(img_test.reshape(-1,1))\n",
        "img_test = img_test.reshape(-1,32,32,3)\n",
        "img_test = (img_test * 255).astype(np.uint8)\n",
        "\n",
        "\n",
        "print(img_train.shape)\n",
        "train_x_1 = equalize_img(img_train).astype(np.uint8)\n",
        "train_x_2 = equalize_img(convert_rgb2gray(img_train),color = False)\n",
        "train_x_2 = np.stack((train_x_2,)*3,axis = -1)\n",
        "train_x_3 = img_train.astype(np.uint8)\n",
        "train_x_4 = convert_rgb2gray( img_train)\n",
        "train_x_4 = np.stack((train_x_4,)*3,axis = -1)\n",
        "\n",
        "#x_test3 = np.stack((x_test3,)*3, axis=-1)\n",
        "\n",
        "test_x = equalize_img(img_test).astype(np.uint8)\n"
      ],
      "metadata": {
        "colab": {
          "base_uri": "https://localhost:8080/"
        },
        "id": "MvGt8UtogJAp",
        "outputId": "5838bab7-5e1c-44cc-ce1d-6d840cbadd68"
      },
      "execution_count": null,
      "outputs": [
        {
          "output_type": "stream",
          "name": "stdout",
          "text": [
            "(37008, 32, 32, 3)\n"
          ]
        }
      ]
    },
    {
      "cell_type": "code",
      "source": [
        "train_x = np.concatenate((train_x_1,train_x_2,train_x_3,train_x_4))\n",
        "train_y = np.concatenate((label_train,label_train,label_train,label_train))"
      ],
      "metadata": {
        "id": "3jJaLiYebE4T"
      },
      "execution_count": null,
      "outputs": []
    },
    {
      "cell_type": "code",
      "source": [
        "train_x = train_x_4\n",
        "train_y = label_train"
      ],
      "metadata": {
        "id": "bew7CZDCj9uB"
      },
      "execution_count": null,
      "outputs": []
    },
    {
      "cell_type": "code",
      "execution_count": null,
      "metadata": {
        "id": "bL7bovekljxA"
      },
      "outputs": [],
      "source": [
        "IMG_SHAPE = (32,32,3)\n",
        "\n",
        "model = tf.keras.Sequential()\n",
        "model.add(tf.keras.layers.Conv2D(64,(3,3),input_shape = IMG_SHAPE))\n",
        "model.add(tf.keras.layers.Dropout(0.1))\n",
        "model.add(tf.keras.layers.MaxPool2D((2,2)))\n",
        "model.add(tf.keras.layers.Conv2D(32,(3,3),input_shape = IMG_SHAPE))\n",
        "model.add(tf.keras.layers.Dropout(0.1))\n",
        "model.add(tf.keras.layers.Conv2D(16,(3,3)))\n",
        "model.add(tf.keras.layers.Dropout(0.1))\n",
        "model.add(tf.keras.layers.MaxPool2D((2,2)))\n",
        "model.add(tf.keras.layers.Flatten())\n",
        "model.add(tf.keras.layers.Dense(100))\n",
        "model.add(tf.keras.layers.Dense(43))\n",
        "\n"
      ]
    },
    {
      "cell_type": "code",
      "execution_count": null,
      "metadata": {
        "colab": {
          "base_uri": "https://localhost:8080/"
        },
        "id": "Grn7WJO5Hitt",
        "outputId": "9fba6392-c9fb-4cb9-a8b7-3bd97846277f"
      },
      "outputs": [
        {
          "output_type": "stream",
          "name": "stdout",
          "text": [
            "Model: \"sequential\"\n",
            "_________________________________________________________________\n",
            " Layer (type)                Output Shape              Param #   \n",
            "=================================================================\n",
            " conv2d (Conv2D)             (None, 30, 30, 64)        1792      \n",
            "                                                                 \n",
            " dropout (Dropout)           (None, 30, 30, 64)        0         \n",
            "                                                                 \n",
            " max_pooling2d (MaxPooling2D  (None, 15, 15, 64)       0         \n",
            " )                                                               \n",
            "                                                                 \n",
            " conv2d_1 (Conv2D)           (None, 13, 13, 32)        18464     \n",
            "                                                                 \n",
            " dropout_1 (Dropout)         (None, 13, 13, 32)        0         \n",
            "                                                                 \n",
            " conv2d_2 (Conv2D)           (None, 11, 11, 16)        4624      \n",
            "                                                                 \n",
            " dropout_2 (Dropout)         (None, 11, 11, 16)        0         \n",
            "                                                                 \n",
            " max_pooling2d_1 (MaxPooling  (None, 5, 5, 16)         0         \n",
            " 2D)                                                             \n",
            "                                                                 \n",
            " flatten (Flatten)           (None, 400)               0         \n",
            "                                                                 \n",
            " dense (Dense)               (None, 100)               40100     \n",
            "                                                                 \n",
            " dense_1 (Dense)             (None, 43)                4343      \n",
            "                                                                 \n",
            "=================================================================\n",
            "Total params: 69,323\n",
            "Trainable params: 69,323\n",
            "Non-trainable params: 0\n",
            "_________________________________________________________________\n"
          ]
        }
      ],
      "source": [
        "model.summary()"
      ]
    },
    {
      "cell_type": "code",
      "execution_count": null,
      "metadata": {
        "colab": {
          "base_uri": "https://localhost:8080/"
        },
        "id": "YgAJI86kmIp5",
        "outputId": "a4b4f9f1-1e9f-4f07-b239-c0ed2bab41b6"
      },
      "outputs": [
        {
          "output_type": "stream",
          "name": "stderr",
          "text": [
            "/usr/local/lib/python3.7/dist-packages/keras/optimizer_v2/adam.py:105: UserWarning: The `lr` argument is deprecated, use `learning_rate` instead.\n",
            "  super(Adam, self).__init__(name, **kwargs)\n"
          ]
        }
      ],
      "source": [
        "base_learning_rate = 0.001\n",
        "model.compile(optimizer=tf.keras.optimizers.Adam(lr=base_learning_rate),\n",
        "              loss=tf.keras.losses.SparseCategoricalCrossentropy(from_logits=True),\n",
        "              metrics=['accuracy'])"
      ]
    },
    {
      "cell_type": "code",
      "execution_count": null,
      "metadata": {
        "colab": {
          "base_uri": "https://localhost:8080/"
        },
        "id": "A3EwI0kdny4e",
        "outputId": "c6dd3724-f821-49f3-92b5-1c0c26bb2347"
      },
      "outputs": [
        {
          "output_type": "stream",
          "name": "stdout",
          "text": [
            "Epoch 1/30\n",
            "4164/4164 [==============================] - 50s 10ms/step - loss: 2.4792 - accuracy: 0.6942 - val_loss: 4.8455 - val_accuracy: 0.0000e+00\n",
            "Epoch 2/30\n",
            "4164/4164 [==============================] - 41s 10ms/step - loss: 1.2247 - accuracy: 0.7906 - val_loss: 4.9106 - val_accuracy: 0.0000e+00\n",
            "Epoch 3/30\n",
            "4164/4164 [==============================] - 40s 10ms/step - loss: 1.2692 - accuracy: 0.8194 - val_loss: 4.9913 - val_accuracy: 0.0000e+00\n",
            "Epoch 4/30\n",
            "4164/4164 [==============================] - 40s 10ms/step - loss: 1.2985 - accuracy: 0.8381 - val_loss: 5.0776 - val_accuracy: 0.0000e+00\n",
            "Epoch 5/30\n",
            "4164/4164 [==============================] - 39s 9ms/step - loss: 1.3653 - accuracy: 0.8461 - val_loss: 5.1179 - val_accuracy: 0.0000e+00\n",
            "Epoch 6/30\n",
            "4164/4164 [==============================] - 40s 10ms/step - loss: 1.4210 - accuracy: 0.8554 - val_loss: 5.3121 - val_accuracy: 0.0103\n",
            "Epoch 7/30\n",
            "4164/4164 [==============================] - 40s 10ms/step - loss: 1.5222 - accuracy: 0.8625 - val_loss: 5.2494 - val_accuracy: 6.7549e-05\n",
            "Epoch 8/30\n",
            "4164/4164 [==============================] - 39s 9ms/step - loss: 1.6049 - accuracy: 0.8662 - val_loss: 5.3863 - val_accuracy: 0.0120\n",
            "Epoch 9/30\n",
            "4164/4164 [==============================] - 40s 10ms/step - loss: 1.5966 - accuracy: 0.8712 - val_loss: 5.1397 - val_accuracy: 0.0163\n",
            "Epoch 10/30\n",
            "4164/4164 [==============================] - 40s 10ms/step - loss: 1.6552 - accuracy: 0.8780 - val_loss: 5.3647 - val_accuracy: 0.0137\n",
            "Epoch 11/30\n",
            "4164/4164 [==============================] - 40s 10ms/step - loss: 1.8569 - accuracy: 0.8828 - val_loss: 5.3394 - val_accuracy: 0.0177\n",
            "Epoch 12/30\n",
            "4164/4164 [==============================] - 40s 10ms/step - loss: 1.8207 - accuracy: 0.8889 - val_loss: 5.5339 - val_accuracy: 0.0309\n",
            "Epoch 13/30\n",
            "4164/4164 [==============================] - 40s 10ms/step - loss: 1.8614 - accuracy: 0.8924 - val_loss: 5.1282 - val_accuracy: 0.0371\n",
            "Epoch 14/30\n",
            "4164/4164 [==============================] - 40s 10ms/step - loss: 1.9660 - accuracy: 0.8939 - val_loss: 5.1653 - val_accuracy: 0.0373\n",
            "Epoch 15/30\n",
            "4164/4164 [==============================] - 41s 10ms/step - loss: 2.0064 - accuracy: 0.9009 - val_loss: 5.1212 - val_accuracy: 0.0377\n",
            "Epoch 16/30\n",
            "4164/4164 [==============================] - 40s 10ms/step - loss: 2.1088 - accuracy: 0.9038 - val_loss: 5.0894 - val_accuracy: 0.0421\n",
            "Epoch 17/30\n",
            "4164/4164 [==============================] - 40s 10ms/step - loss: 2.1129 - accuracy: 0.9061 - val_loss: 4.7776 - val_accuracy: 0.0534\n",
            "Epoch 18/30\n",
            "4164/4164 [==============================] - 40s 10ms/step - loss: 2.1963 - accuracy: 0.9126 - val_loss: 4.9339 - val_accuracy: 0.0613\n",
            "Epoch 19/30\n",
            "4164/4164 [==============================] - 41s 10ms/step - loss: 2.2655 - accuracy: 0.9138 - val_loss: 4.8671 - val_accuracy: 0.0651\n",
            "Epoch 20/30\n",
            "4164/4164 [==============================] - 38s 9ms/step - loss: 2.3501 - accuracy: 0.9180 - val_loss: 4.8771 - val_accuracy: 0.0542\n",
            "Epoch 21/30\n",
            "4164/4164 [==============================] - 38s 9ms/step - loss: 2.3897 - accuracy: 0.9185 - val_loss: 4.6914 - val_accuracy: 0.0577\n",
            "Epoch 22/30\n",
            "4164/4164 [==============================] - 38s 9ms/step - loss: 2.4309 - accuracy: 0.9225 - val_loss: 4.6591 - val_accuracy: 0.0641\n",
            "Epoch 23/30\n",
            "4164/4164 [==============================] - 39s 9ms/step - loss: 2.5670 - accuracy: 0.9274 - val_loss: 4.5933 - val_accuracy: 0.0665\n",
            "Epoch 24/30\n",
            "4164/4164 [==============================] - 39s 9ms/step - loss: 2.6072 - accuracy: 0.9250 - val_loss: 4.6902 - val_accuracy: 0.0844\n",
            "Epoch 25/30\n",
            "4164/4164 [==============================] - 39s 9ms/step - loss: 2.5185 - accuracy: 0.9269 - val_loss: 4.7389 - val_accuracy: 0.0717\n",
            "Epoch 26/30\n",
            "4164/4164 [==============================] - 38s 9ms/step - loss: 2.6419 - accuracy: 0.9319 - val_loss: 4.5997 - val_accuracy: 0.0904\n",
            "Epoch 27/30\n",
            "4164/4164 [==============================] - 37s 9ms/step - loss: 2.7766 - accuracy: 0.9334 - val_loss: 4.5157 - val_accuracy: 0.0922\n",
            "Epoch 28/30\n",
            "4164/4164 [==============================] - 38s 9ms/step - loss: 2.7099 - accuracy: 0.9325 - val_loss: 4.7343 - val_accuracy: 0.0752\n",
            "Epoch 29/30\n",
            "4164/4164 [==============================] - 38s 9ms/step - loss: 2.8564 - accuracy: 0.9372 - val_loss: 4.3307 - val_accuracy: 0.1063\n",
            "Epoch 30/30\n",
            "4164/4164 [==============================] - 39s 9ms/step - loss: 2.8686 - accuracy: 0.9401 - val_loss: 4.3362 - val_accuracy: 0.1036\n"
          ]
        },
        {
          "output_type": "execute_result",
          "data": {
            "text/plain": [
              "<keras.callbacks.History at 0x7f63697392d0>"
            ]
          },
          "metadata": {},
          "execution_count": 12
        }
      ],
      "source": [
        "model.fit(train_x,train_y,\n",
        "                    epochs=30,\n",
        "                    validation_split=0.1)"
      ]
    },
    {
      "cell_type": "code",
      "source": [
        "model.evaluate(test_x,label_test)"
      ],
      "metadata": {
        "colab": {
          "base_uri": "https://localhost:8080/"
        },
        "id": "F5NF-2xpaLKs",
        "outputId": "e6728429-554b-4980-fc29-5412c83ff986"
      },
      "execution_count": null,
      "outputs": [
        {
          "output_type": "stream",
          "name": "stdout",
          "text": [
            "395/395 [==============================] - 2s 5ms/step - loss: 11.5686 - accuracy: 0.9306\n"
          ]
        },
        {
          "output_type": "execute_result",
          "data": {
            "text/plain": [
              "[11.568602561950684, 0.9306413531303406]"
            ]
          },
          "metadata": {},
          "execution_count": 13
        }
      ]
    },
    {
      "cell_type": "code",
      "source": [
        "outputs = model.predict(test_x)\n",
        "result_classification = np.argmax(outputs,axis= 1)\n",
        "target= label_test\n",
        "\n",
        "matrice_confusion = confusion_matrix(result_classification,target)\n",
        "matrice_confusion = matrice_confusion.astype(np.float32)\n",
        "#print(np.max(matrice_confusion[0]))\n",
        "\"\"\"\n",
        "for ligne in matrice_confusion:\n",
        "  maxi = np.max(ligne)\n",
        "  for element in ligne:\n",
        "    element = element/maxi\n",
        "\n",
        "\"\"\"\n",
        "\n",
        "\n",
        "for i in range(len(matrice_confusion)):\n",
        "  somme = np.sum(matrice_confusion[i])\n",
        "  for j in range(len(matrice_confusion[0])):\n",
        "    if(somme != 0):\n",
        "      matrice_confusion[i,j] = round(matrice_confusion[i,j] / (somme),2) * 100\n",
        "\n",
        "\n",
        "plt.figure(figsize=(15,10))\n",
        "\n",
        "sns.heatmap(matrice_confusion,annot=True)"
      ],
      "metadata": {
        "colab": {
          "base_uri": "https://localhost:8080/",
          "height": 612
        },
        "id": "DkgMHeF3ktPP",
        "outputId": "ef60e138-aad5-46f1-b14c-f85c85241c54"
      },
      "execution_count": null,
      "outputs": [
        {
          "output_type": "execute_result",
          "data": {
            "text/plain": [
              "<matplotlib.axes._subplots.AxesSubplot at 0x7f63603e4b50>"
            ]
          },
          "metadata": {},
          "execution_count": 14
        },
        {
          "output_type": "display_data",
          "data": {
            "image/png": "[encoded data removed]",
            "text/plain": [
              "<Figure size 1080x720 with 2 Axes>"
            ]
          },
          "metadata": {
            "needs_background": "light"
          }
        }
      ]
    },
    {
      "cell_type": "code",
      "source": [
        "matrice_confusion"
      ],
      "metadata": {
        "colab": {
          "base_uri": "https://localhost:8080/"
        },
        "id": "GhwwxW6_pbLe",
        "outputId": "da51c915-1449-4374-a8cd-c389efbc1bb7"
      },
      "execution_count": null,
      "outputs": [
        {
          "output_type": "execute_result",
          "data": {
            "text/plain": [
              "array([[75.,  4.,  0., ...,  3.,  0.,  0.],\n",
              "       [ 0., 92.,  0., ...,  0.,  0.,  0.],\n",
              "       [ 0.,  1., 58., ...,  0.,  0.,  0.],\n",
              "       ...,\n",
              "       [ 0.,  0.,  0., ..., 92.,  0.,  0.],\n",
              "       [ 0.,  0.,  0., ...,  0., 83.,  2.],\n",
              "       [ 0.,  0.,  0., ...,  1.,  0., 94.]], dtype=float32)"
            ]
          },
          "metadata": {},
          "execution_count": 41
        }
      ]
    },
    {
      "cell_type": "code",
      "source": [
        "np.argmax(outputs,axis =)"
      ],
      "metadata": {
        "colab": {
          "base_uri": "https://localhost:8080/"
        },
        "id": "qOXlvvFflFIB",
        "outputId": "f373969e-7d08-4b3a-f2de-1c5abc85f058"
      },
      "execution_count": null,
      "outputs": [
        {
          "output_type": "execute_result",
          "data": {
            "text/plain": [
              "array([ 1, 18, 18, ..., 30, 25,  2])"
            ]
          },
          "metadata": {},
          "execution_count": 30
        }
      ]
    },
    {
      "cell_type": "code",
      "source": [
        "array.shape"
      ],
      "metadata": {
        "colab": {
          "base_uri": "https://localhost:8080/"
        },
        "id": "50dD_WrJkxWE",
        "outputId": "d4125f87-893a-4948-9a64-a749103ffef2"
      },
      "execution_count": null,
      "outputs": [
        {
          "output_type": "execute_result",
          "data": {
            "text/plain": [
              "(12630, 43)"
            ]
          },
          "metadata": {},
          "execution_count": 18
        }
      ]
    },
    {
      "cell_type": "code",
      "source": [
        "model.save('model', save_format= \"tf\")"
      ],
      "metadata": {
        "colab": {
          "base_uri": "https://localhost:8080/"
        },
        "id": "Nska8zSGUdJQ",
        "outputId": "f3a8f447-a451-455a-efb3-21b4683ae9ec"
      },
      "execution_count": null,
      "outputs": [
        {
          "output_type": "stream",
          "name": "stdout",
          "text": [
            "INFO:tensorflow:Assets written to: model/assets\n"
          ]
        }
      ]
    },
    {
      "cell_type": "code",
      "source": [
        "!pip install tf2onnx"
      ],
      "metadata": {
        "colab": {
          "base_uri": "https://localhost:8080/",
          "height": 514
        },
        "id": "qgWVFSLYMEH7",
        "outputId": "5325b14e-dd48-4cb3-a5a3-8317e9b839c2"
      },
      "execution_count": null,
      "outputs": [
        {
          "output_type": "stream",
          "name": "stdout",
          "text": [
            "Collecting tf2onnx\n",
            "  Downloading tf2onnx-1.9.3-py3-none-any.whl (435 kB)\n",
            "\u001b[K     |████████████████████████████████| 435 kB 4.1 MB/s \n",
            "\u001b[?25hRequirement already satisfied: six in /usr/local/lib/python3.7/dist-packages (from tf2onnx) (1.15.0)\n",
            "Requirement already satisfied: numpy>=1.14.1 in /usr/local/lib/python3.7/dist-packages (from tf2onnx) (1.19.5)\n",
            "Collecting flatbuffers~=1.12\n",
            "  Downloading flatbuffers-1.12-py2.py3-none-any.whl (15 kB)\n",
            "Requirement already satisfied: requests in /usr/local/lib/python3.7/dist-packages (from tf2onnx) (2.23.0)\n",
            "Collecting onnx>=1.4.1\n",
            "  Downloading onnx-1.10.2-cp37-cp37m-manylinux_2_12_x86_64.manylinux2010_x86_64.whl (12.7 MB)\n",
            "\u001b[K     |████████████████████████████████| 12.7 MB 44.2 MB/s \n",
            "\u001b[?25hRequirement already satisfied: protobuf in /usr/local/lib/python3.7/dist-packages (from onnx>=1.4.1->tf2onnx) (3.17.3)\n",
            "Requirement already satisfied: typing-extensions>=3.6.2.1 in /usr/local/lib/python3.7/dist-packages (from onnx>=1.4.1->tf2onnx) (3.10.0.2)\n",
            "Requirement already satisfied: urllib3!=1.25.0,!=1.25.1,<1.26,>=1.21.1 in /usr/local/lib/python3.7/dist-packages (from requests->tf2onnx) (1.24.3)\n",
            "Requirement already satisfied: certifi>=2017.4.17 in /usr/local/lib/python3.7/dist-packages (from requests->tf2onnx) (2021.10.8)\n",
            "Requirement already satisfied: chardet<4,>=3.0.2 in /usr/local/lib/python3.7/dist-packages (from requests->tf2onnx) (3.0.4)\n",
            "Requirement already satisfied: idna<3,>=2.5 in /usr/local/lib/python3.7/dist-packages (from requests->tf2onnx) (2.10)\n",
            "Installing collected packages: onnx, flatbuffers, tf2onnx\n",
            "  Attempting uninstall: flatbuffers\n",
            "    Found existing installation: flatbuffers 2.0\n",
            "    Uninstalling flatbuffers-2.0:\n",
            "      Successfully uninstalled flatbuffers-2.0\n",
            "Successfully installed flatbuffers-1.12 onnx-1.10.2 tf2onnx-1.9.3\n"
          ]
        },
        {
          "output_type": "display_data",
          "data": {
            "application/vnd.colab-display-data+json": {
              "pip_warning": {
                "packages": [
                  "flatbuffers"
                ]
              }
            }
          },
          "metadata": {}
        }
      ]
    },
    {
      "cell_type": "code",
      "source": [
        "!python -m tf2onnx.convert \\\n",
        "        --saved-model model/ \\\n",
        "        --output model/panneau1.onnx \\\n",
        "        --opset 7"
      ],
      "metadata": {
        "colab": {
          "base_uri": "https://localhost:8080/"
        },
        "id": "a3CyV7rdUX-r",
        "outputId": "95e2a8d4-8089-4654-d019-2168a736e520"
      },
      "execution_count": null,
      "outputs": [
        {
          "output_type": "stream",
          "name": "stdout",
          "text": [
            "/usr/lib/python3.7/runpy.py:125: RuntimeWarning: 'tf2onnx.convert' found in sys.modules after import of package 'tf2onnx', but prior to execution of 'tf2onnx.convert'; this may result in unpredictable behaviour\n",
            "  warn(RuntimeWarning(msg))\n",
            "2022-01-10 10:19:36,534 - WARNING - '--tag' not specified for saved_model. Using --tag serve\n",
            "2022-01-10 10:19:37,047 - INFO - Signatures found in model: [serving_default].\n",
            "2022-01-10 10:19:37,048 - WARNING - '--signature_def' not specified, using first signature: serving_default\n",
            "2022-01-10 10:19:37,048 - INFO - Output names: ['dense_3']\n",
            "WARNING:tensorflow:From /usr/local/lib/python3.7/dist-packages/tf2onnx/tf_loader.py:706: extract_sub_graph (from tensorflow.python.framework.graph_util_impl) is deprecated and will be removed in a future version.\n",
            "Instructions for updating:\n",
            "Use `tf.compat.v1.graph_util.extract_sub_graph`\n",
            "2022-01-10 10:19:37,178 - WARNING - From /usr/local/lib/python3.7/dist-packages/tf2onnx/tf_loader.py:706: extract_sub_graph (from tensorflow.python.framework.graph_util_impl) is deprecated and will be removed in a future version.\n",
            "Instructions for updating:\n",
            "Use `tf.compat.v1.graph_util.extract_sub_graph`\n",
            "2022-01-10 10:19:37,247 - INFO - Using tensorflow=2.7.0, onnx=1.10.2, tf2onnx=1.9.3/1190aa\n",
            "2022-01-10 10:19:37,247 - INFO - Using opset <onnx, 7>\n",
            "2022-01-10 10:19:37,555 - INFO - Computed 0 values for constant folding\n",
            "2022-01-10 10:19:37,764 - INFO - Optimizing ONNX model\n",
            "2022-01-10 10:19:37,834 - INFO - After optimization: Cast -1 (1->0), Identity -8 (8->0), Transpose -4 (6->2)\n",
            "2022-01-10 10:19:39,036 - INFO - \n",
            "2022-01-10 10:19:39,036 - INFO - Successfully converted TensorFlow model model/ to ONNX\n",
            "2022-01-10 10:19:39,036 - INFO - Model inputs: ['conv2d_3_input', 'const_fold_opt__19', 'StatefulPartitionedCall/sequential_1/dense_3/MatMul/ReadVariableOp:0', 'StatefulPartitionedCall/sequential_1/dense_3/BiasAdd/ReadVariableOp:0', 'StatefulPartitionedCall/sequential_1/dense_2/MatMul/ReadVariableOp:0', 'StatefulPartitionedCall/sequential_1/dense_2/BiasAdd/ReadVariableOp:0', 'StatefulPartitionedCall/sequential_1/conv2d_5/Conv2D/ReadVariableOp:0', 'StatefulPartitionedCall/sequential_1/conv2d_5/BiasAdd/ReadVariableOp:0', 'StatefulPartitionedCall/sequential_1/conv2d_4/Conv2D/ReadVariableOp:0', 'StatefulPartitionedCall/sequential_1/conv2d_4/BiasAdd/ReadVariableOp:0', 'StatefulPartitionedCall/sequential_1/conv2d_3/Conv2D/ReadVariableOp:0', 'StatefulPartitionedCall/sequential_1/conv2d_3/BiasAdd/ReadVariableOp:0']\n",
            "2022-01-10 10:19:39,036 - INFO - Model outputs: ['dense_3']\n",
            "2022-01-10 10:19:39,036 - INFO - ONNX model is saved at model/panneau1.onnx\n"
          ]
        }
      ]
    },
    {
      "cell_type": "code",
      "source": [
        "%cd model"
      ],
      "metadata": {
        "id": "HZh4VdI0XAn4",
        "colab": {
          "base_uri": "https://localhost:8080/"
        },
        "outputId": "0da2955b-c8e9-41bb-e0a6-ea94e57e8f1f"
      },
      "execution_count": null,
      "outputs": [
        {
          "output_type": "stream",
          "name": "stdout",
          "text": [
            "/content/drive/.shortcut-targets-by-id/1ZhwREzTqWyWVd24lvEjetIj_6ZtSoXui/Projet_Acceleration_Materielle/data2/model\n"
          ]
        }
      ]
    },
    {
      "cell_type": "code",
      "source": [],
      "metadata": {
        "colab": {
          "base_uri": "https://localhost:8080/"
        },
        "id": "GRPfG81QgSLm",
        "outputId": "457712dc-9f4c-4581-94ae-3252d99b7be2"
      },
      "execution_count": null,
      "outputs": [
        {
          "output_type": "stream",
          "name": "stdout",
          "text": [
            "--2022-01-10 10:21:56--  http://panneau1.onnx/\n",
            "Resolving panneau1.onnx (panneau1.onnx)... failed: Name or service not known.\n",
            "wget: unable to resolve host address ‘panneau1.onnx’\n"
          ]
        }
      ]
    },
    {
      "cell_type": "code",
      "source": [
        "!pwd"
      ],
      "metadata": {
        "id": "6EgptHeeguzr",
        "outputId": "74639386-e049-4d15-c92e-e3ca657adfb2",
        "colab": {
          "base_uri": "https://localhost:8080/"
        }
      },
      "execution_count": null,
      "outputs": [
        {
          "output_type": "stream",
          "name": "stdout",
          "text": [
            "/content/drive/.shortcut-targets-by-id/1ZhwREzTqWyWVd24lvEjetIj_6ZtSoXui/Projet_Acceleration_Materielle/data2/model\n"
          ]
        }
      ]
    },
    {
      "cell_type": "code",
      "source": [
        "plt.imshow(img_test[0])\n",
        "plt.savefig(\"yolo\")"
      ],
      "metadata": {
        "id": "Um5RzvQekUh9"
      },
      "execution_count": null,
      "outputs": []
    },
    {
      "cell_type": "code",
      "source": [],
      "metadata": {
        "id": "fYxfWT6IXRdA"
      },
      "execution_count": null,
      "outputs": []
    },
    {
      "cell_type": "code",
      "source": [
        "model.save(\"Model.h5\")"
      ],
      "metadata": {
        "id": "3RedHYOIUhxo"
      },
      "execution_count": null,
      "outputs": []
    },
    {
      "cell_type": "code",
      "source": [
        "model.evaluate(img_test,label_test)"
      ],
      "metadata": {
        "id": "H8sG4paijJpe"
      },
      "execution_count": null,
      "outputs": []
    },
    {
      "cell_type": "code",
      "execution_count": null,
      "metadata": {
        "id": "Rvjc6ib7n194"
      },
      "outputs": [],
      "source": [
        "acc = history.history['accuracy']\n",
        "val_acc = history.history['val_accuracy']\n",
        "\n",
        "loss = history.history['loss']\n",
        "val_loss = history.history['val_loss']\n",
        "\n",
        "plt.figure(figsize=(8, 8))\n",
        "plt.subplot(2, 1, 1)\n",
        "plt.plot(acc, label='Training Accuracy')\n",
        "plt.plot(val_acc, label='Validation Accuracy')\n",
        "plt.legend(loc='lower right')\n",
        "plt.ylabel('Accuracy')\n",
        "plt.ylim([min(plt.ylim()),1])\n",
        "plt.title('Training and Validation Accuracy')\n",
        "\n",
        "plt.subplot(2, 1, 2)\n",
        "plt.plot(loss, label='Training Loss')\n",
        "plt.plot(val_loss, label='Validation Loss')\n",
        "plt.legend(loc='upper right')\n",
        "plt.ylabel('Cross Entropy')\n",
        "plt.ylim([0,1.0])\n",
        "plt.title('Training and Validation Loss')\n",
        "plt.xlabel('epoch')\n",
        "plt.show()"
      ]
    },
    {
      "cell_type": "code",
      "execution_count": null,
      "metadata": {
        "id": "3sAubdRtoMjM"
      },
      "outputs": [],
      "source": []
    },
    {
      "cell_type": "code",
      "source": [
        "\n",
        "img = skimage.color.rgb2hsv(img_train[8528])\n",
        "plt.imshow(img)\n",
        "      #print(img.shape)\n",
        "img2 = img[:,:,2]\n",
        "plt.imshow(img2)\n",
        "      #print(img2.dtype)\n",
        "img2 = img2/img2.max()\n",
        "img2 = 255*img2\n",
        "img3  = cv2.equalizeHist(img2.astype(np.uint8))\n",
        "plt.imshow(img3)\n",
        "      #print(img3.shape)\n",
        "img[:,:,2] = img3\n",
        "img = skimage.color.hsv2rgb(img)\n",
        "plt.imshow(img.astype(np.uint8))\n",
        "\n",
        "#array.append(skimage.color.hsv2rgb(img))"
      ],
      "metadata": {
        "id": "UtVHSZGAf03P"
      },
      "execution_count": null,
      "outputs": []
    }
  ],
  "metadata": {
    "accelerator": "GPU",
    "colab": {
      "provenance": []
    },
    "kernelspec": {
      "display_name": "Python 3",
      "name": "python3"
    },
    "language_info": {
      "name": "python"
    }
  },
  "nbformat": 4,
  "nbformat_minor": 0
}